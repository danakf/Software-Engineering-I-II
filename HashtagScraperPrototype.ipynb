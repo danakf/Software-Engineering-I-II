{
 "cells": [
  {
   "cell_type": "code",
   "execution_count": 294,
   "metadata": {},
   "outputs": [],
   "source": [
    "# Author: Dana Fidler\n",
    "# Purpose: A simple prototype that scrapes descriptions based on hashtags entered."
   ]
  },
  {
   "cell_type": "code",
   "execution_count": 295,
   "metadata": {},
   "outputs": [],
   "source": [
    "import requests\n",
    "import bs4\n",
    "from selenium import webdriver\n",
    "import instagram"
   ]
  },
  {
   "cell_type": "markdown",
   "metadata": {},
   "source": [
    "### Enter the desired hashtag below -->"
   ]
  },
  {
   "cell_type": "code",
   "execution_count": 296,
   "metadata": {},
   "outputs": [],
   "source": [
    "hashtag = \"crateapp\"\n",
    "\n",
    "instapath = \"https://instagram.com/explore/tags/\"\n",
    "url = instapath + hashtag"
   ]
  },
  {
   "cell_type": "markdown",
   "metadata": {},
   "source": [
    "### Creating the path from the hashtag. The raw data is displayed below."
   ]
  },
  {
   "cell_type": "code",
   "execution_count": 297,
   "metadata": {},
   "outputs": [
    {
     "name": "stdout",
     "output_type": "stream",
     "text": [
      "<!DOCTYPE html>\n",
      "<html lang=\"en\" class=\"no-js not-logged-in client-root\">\n",
      "    <head><meta charset=\"utf-8\">\n",
      "        <meta http-equiv=\"X-UA-Compatible\" content=\"IE=edge\">\n",
      "\n",
      "        <title>\n",
      "#crateapp â¢ Instagram photos and videos\n",
      "</title>\n",
      "\n",
      "        \n",
      "        <meta name=\"robots\" content=\"noimageindex, noarchive\">\n",
      "        <meta name=\"mobile-web-app-capable\" content=\"yes\">\n",
      "        <meta name=\"theme-color\" content=\"#000000\">\n",
      "        <meta id=\"viewport\" name=\"viewport\" content=\"width=device-width, initial-scale=1, minimum-scale=1, maximum-scale=5, viewport-fit=cover\">\n",
      "        \n",
      "\n",
      "        <link rel=\"manifest\" href=\"/data/manifest.json\">\n",
      "\n",
      "        \n",
      "          <link href=\"https://graph.instagram.com\" rel=\"preconnect\" crossorigin>\n",
      "        \n",
      "\n",
      "        \n",
      "        <link rel=\"preload\" href=\"/static/bundles/base/TagPageContainer.js/ea0c954b4ec9.js\" as=\"script\" type=\"text/javascript\" crossorigin=\"anonymous\" />\n",
      "\n",
      "        <script type=\"text/javascript\">\n",
      "        (function() {\n",
      "            var docElement = document.documentElement;\n",
      "            var classRE = new RegExp('(^|\\\\s)no-js(\\\\s|$)');\n",
      "            var className = docElement.className;\n",
      "            docElement.className = className.replace(classRE, '$1js$2');\n",
      "        })();\n",
      "        </script>\n",
      "        <script type=\"text/javascript\">\n",
      "(function() {\n",
      "  if ('PerformanceObserver' in window && 'PerformancePaintTiming' in window) {\n",
      "    window.__bufferedPerformance = [];\n",
      "    var ob = new PerformanceObserver(function(e) {\n",
      "      window.__bufferedPerformance.push.apply(window.__bufferedPerformance,e.getEntries());\n",
      "    });\n",
      "    ob.observe({entryTypes:['paint']});\n",
      "  }\n",
      "  window.__bufferedErrors = [];\n",
      "  window.onerror = function(message, url, line, column, error) {\n",
      "    window.__bufferedErrors.push({\n",
      "      message: message,\n",
      "      url: url,\n",
      "      line: line,\n",
      "      column: column,\n",
      "      error: error\n",
      "    });\n",
      "    return false;\n",
      "  };\n",
      "  window.__initialData = {\n",
      "    pending: true,\n",
      "    waiting: []\n",
      "  };\n",
      "  function notifyLoaded(item, data) {\n",
      "    item.pending = false;\n",
      "    item.data = data;\n",
      "    for (var i = 0;i < item.waiting.length; ++i) {\n",
      "      item.waiting[i].resolve(item.data);\n",
      "    }\n",
      "    item.waiting = [];\n",
      "  }\n",
      "  function notifyError(item, msg) {\n",
      "    item.pending = false;\n",
      "    item.error = new Error(msg);\n",
      "    for (var i = 0;i < item.waiting.length; ++i) {\n",
      "      item.waiting[i].reject(item.error);\n",
      "    }\n",
      "    item.waiting = [];\n",
      "  }\n",
      "  window.__initialDataLoaded = function(initialData) {\n",
      "    notifyLoaded(window.__initialData, initialData);\n",
      "  };\n",
      "  window.__initialDataError = function(msg) {\n",
      "    notifyError(window.__initialData, msg);\n",
      "  };\n",
      "  window.__additionalData = {};\n",
      "  window.__pendingAdditionalData = function(paths) {\n",
      "    for (var i = 0;i < paths.length; ++i) {\n",
      "      window.__additionalData[paths[i]] = {\n",
      "        pending: true,\n",
      "        waiting: []\n",
      "      };\n",
      "    }\n",
      "  };\n",
      "  window.__additionalDataLoaded = function(path, data) {\n",
      "    notifyLoaded(window.__additionalData[path], data);\n",
      "  };\n",
      "  window.__additionalDataError = function(path, msg) {\n",
      "    notifyError(window.__additionalData[path], msg);\n",
      "  };\n",
      "})();\n",
      "</script>\n",
      "    \n",
      "                <link rel=\"apple-touch-icon-precomposed\" sizes=\"76x76\" href=\"/static/images/ico/apple-touch-icon-76x76-precomposed.png/932e4d9af891.png\">\n",
      "                <link rel=\"apple-touch-icon-precomposed\" sizes=\"120x120\" href=\"/static/images/ico/apple-touch-icon-120x120-precomposed.png/004705c9353f.png\">\n",
      "                <link rel=\"apple-touch-icon-precomposed\" sizes=\"152x152\" href=\"/static/images/ico/apple-touch-icon-152x152-precomposed.png/82467bc9bcce.png\">\n",
      "                <link rel=\"apple-touch-icon-precomposed\" sizes=\"167x167\" href=\"/static/images/ico/apple-touch-icon-167x167-precomposed.png/515cb4eeeeee.png\">\n",
      "                <link rel=\"apple-touch-icon-precomposed\" sizes=\"180x180\" href=\"/static/images/ico/apple-touch-icon-180x180-precomposed.png/94fd767f257b.png\">\n",
      "                \n",
      "                    <link rel=\"icon\" sizes=\"192x192\" href=\"/static/images/ico/favicon-192.png/b407fa101800.png\">\n",
      "                \n",
      "            \n",
      "            \n",
      "                    <link rel=\"mask-icon\" href=\"/static/images/ico/favicon.svg/9d8680ab8a3c.svg\" color=\"#262626\">\n",
      "                  \n",
      "                  <link rel=\"shortcut icon\" type=\"image/x-icon\" href=\"/static/images/ico/favicon.ico/dfa85bb1fd63.ico\">\n",
      "                \n",
      "            \n",
      "            \n",
      "            \n",
      "    \n",
      "    <link rel=\"canonical\" href=\"https://www.instagram.com/explore/tags/crateapp/\" />\n",
      "<meta content=\"3 Posts - See Instagram photos and videos from âcrateappâ hashtag\" name=\"description\" />\n",
      "    <link rel=\"alternate\" href=\"https://www.instagram.com/explore/tags/crateapp/\" hreflang=\"x-default\" />\n",
      "<link rel=\"alternate\" href=\"https://www.instagram.com/explore/tags/crateapp/?hl=en\" hreflang=\"en\" />\n",
      "<link rel=\"alternate\" href=\"https://www.instagram.com/explore/tags/crateapp/?hl=fr\" hreflang=\"fr\" />\n",
      "<link rel=\"alternate\" href=\"https://www.instagram.com/explore/tags/crateapp/?hl=it\" hreflang=\"it\" />\n",
      "<link rel=\"alternate\" href=\"https://www.instagram.com/explore/tags/crateapp/?hl=de\" hreflang=\"de\" />\n",
      "<link rel=\"alternate\" href=\"https://www.instagram.com/explore/tags/crateapp/?hl=es\" hreflang=\"es\" />\n",
      "<link rel=\"alternate\" href=\"https://www.instagram.com/explore/tags/crateapp/?hl=zh-cn\" hreflang=\"zh-cn\" />\n",
      "<link rel=\"alternate\" href=\"https://www.instagram.com/explore/tags/crateapp/?hl=zh-tw\" hreflang=\"zh-tw\" />\n",
      "<link rel=\"alternate\" href=\"https://www.instagram.com/explore/tags/crateapp/?hl=ja\" hreflang=\"ja\" />\n",
      "<link rel=\"alternate\" href=\"https://www.instagram.com/explore/tags/crateapp/?hl=ko\" hreflang=\"ko\" />\n",
      "<link rel=\"alternate\" href=\"https://www.instagram.com/explore/tags/crateapp/?hl=pt\" hreflang=\"pt\" />\n",
      "<link rel=\"alternate\" href=\"https://www.instagram.com/explore/tags/crateapp/?hl=pt-br\" hreflang=\"pt-br\" />\n",
      "<link rel=\"alternate\" href=\"https://www.instagram.com/explore/tags/crateapp/?hl=af\" hreflang=\"af\" />\n",
      "<link rel=\"alternate\" href=\"https://www.instagram.com/explore/tags/crateapp/?hl=cs\" hreflang=\"cs\" />\n",
      "<link rel=\"alternate\" href=\"https://www.instagram.com/explore/tags/crateapp/?hl=da\" hreflang=\"da\" />\n",
      "<link rel=\"alternate\" href=\"https://www.instagram.com/explore/tags/crateapp/?hl=el\" hreflang=\"el\" />\n",
      "<link rel=\"alternate\" href=\"https://www.instagram.com/explore/tags/crateapp/?hl=fi\" hreflang=\"fi\" />\n",
      "<link rel=\"alternate\" href=\"https://www.instagram.com/explore/tags/crateapp/?hl=hr\" hreflang=\"hr\" />\n",
      "<link rel=\"alternate\" href=\"https://www.instagram.com/explore/tags/crateapp/?hl=hu\" hreflang=\"hu\" />\n",
      "<link rel=\"alternate\" href=\"https://www.instagram.com/explore/tags/crateapp/?hl=id\" hreflang=\"id\" />\n",
      "<link rel=\"alternate\" href=\"https://www.instagram.com/explore/tags/crateapp/?hl=ms\" hreflang=\"ms\" />\n",
      "<link rel=\"alternate\" href=\"https://www.instagram.com/explore/tags/crateapp/?hl=nb\" hreflang=\"nb\" />\n",
      "<link rel=\"alternate\" href=\"https://www.instagram.com/explore/tags/crateapp/?hl=nl\" hreflang=\"nl\" />\n",
      "<link rel=\"alternate\" href=\"https://www.instagram.com/explore/tags/crateapp/?hl=pl\" hreflang=\"pl\" />\n",
      "<link rel=\"alternate\" href=\"https://www.instagram.com/explore/tags/crateapp/?hl=ru\" hreflang=\"ru\" />\n",
      "<link rel=\"alternate\" href=\"https://www.instagram.com/explore/tags/crateapp/?hl=sk\" hreflang=\"sk\" />\n",
      "<link rel=\"alternate\" href=\"https://www.instagram.com/explore/tags/crateapp/?hl=sv\" hreflang=\"sv\" />\n",
      "<link rel=\"alternate\" href=\"https://www.instagram.com/explore/tags/crateapp/?hl=th\" hreflang=\"th\" />\n",
      "<link rel=\"alternate\" href=\"https://www.instagram.com/explore/tags/crateapp/?hl=tl\" hreflang=\"tl\" />\n",
      "<link rel=\"alternate\" href=\"https://www.instagram.com/explore/tags/crateapp/?hl=tr\" hreflang=\"tr\" />\n",
      "<link rel=\"alternate\" href=\"https://www.instagram.com/explore/tags/crateapp/?hl=hi\" hreflang=\"hi\" />\n",
      "<link rel=\"alternate\" href=\"https://www.instagram.com/explore/tags/crateapp/?hl=bn\" hreflang=\"bn\" />\n",
      "<link rel=\"alternate\" href=\"https://www.instagram.com/explore/tags/crateapp/?hl=gu\" hreflang=\"gu\" />\n",
      "<link rel=\"alternate\" href=\"https://www.instagram.com/explore/tags/crateapp/?hl=kn\" hreflang=\"kn\" />\n",
      "<link rel=\"alternate\" href=\"https://www.instagram.com/explore/tags/crateapp/?hl=ml\" hreflang=\"ml\" />\n",
      "<link rel=\"alternate\" href=\"https://www.instagram.com/explore/tags/crateapp/?hl=mr\" hreflang=\"mr\" />\n",
      "<link rel=\"alternate\" href=\"https://www.instagram.com/explore/tags/crateapp/?hl=pa\" hreflang=\"pa\" />\n",
      "<link rel=\"alternate\" href=\"https://www.instagram.com/explore/tags/crateapp/?hl=ta\" hreflang=\"ta\" />\n",
      "<link rel=\"alternate\" href=\"https://www.instagram.com/explore/tags/crateapp/?hl=te\" hreflang=\"te\" />\n",
      "<link rel=\"alternate\" href=\"https://www.instagram.com/explore/tags/crateapp/?hl=ne\" hreflang=\"ne\" />\n",
      "<link rel=\"alternate\" href=\"https://www.instagram.com/explore/tags/crateapp/?hl=si\" hreflang=\"si\" />\n",
      "<link rel=\"alternate\" href=\"https://www.instagram.com/explore/tags/crateapp/?hl=ur\" hreflang=\"ur\" />\n",
      "<link rel=\"alternate\" href=\"https://www.instagram.com/explore/tags/crateapp/?hl=vi\" hreflang=\"vi\" />\n",
      "<link rel=\"alternate\" href=\"https://www.instagram.com/explore/tags/crateapp/?hl=bg\" hreflang=\"bg\" />\n",
      "<link rel=\"alternate\" href=\"https://www.instagram.com/explore/tags/crateapp/?hl=fr-ca\" hreflang=\"fr-ca\" />\n",
      "<link rel=\"alternate\" href=\"https://www.instagram.com/explore/tags/crateapp/?hl=ro\" hreflang=\"ro\" />\n",
      "<link rel=\"alternate\" href=\"https://www.instagram.com/explore/tags/crateapp/?hl=sr\" hreflang=\"sr\" />\n",
      "<link rel=\"alternate\" href=\"https://www.instagram.com/explore/tags/crateapp/?hl=uk\" hreflang=\"uk\" />\n",
      "<link rel=\"alternate\" href=\"https://www.instagram.com/explore/tags/crateapp/?hl=zh-hk\" hreflang=\"zh-hk\" />\n",
      "<link rel=\"alternate\" href=\"https://www.instagram.com/explore/tags/crateapp/?hl=es-la\" hreflang=\"es-hn\" />\n",
      "<link rel=\"alternate\" href=\"https://www.instagram.com/explore/tags/crateapp/?hl=es-la\" hreflang=\"es-do\" />\n",
      "<link rel=\"alternate\" href=\"https://www.instagram.com/explore/tags/crateapp/?hl=es-la\" hreflang=\"es-ni\" />\n",
      "<link rel=\"alternate\" href=\"https://www.instagram.com/explore/tags/crateapp/?hl=es-la\" hreflang=\"es-bo\" />\n",
      "<link rel=\"alternate\" href=\"https://www.instagram.com/explore/tags/crateapp/?hl=es-la\" hreflang=\"es-uy\" />\n",
      "<link rel=\"alternate\" href=\"https://www.instagram.com/explore/tags/crateapp/?hl=es-la\" hreflang=\"es-cu\" />\n",
      "<link rel=\"alternate\" href=\"https://www.instagram.com/explore/tags/crateapp/?hl=es-la\" hreflang=\"es-pr\" />\n",
      "<link rel=\"alternate\" href=\"https://www.instagram.com/explore/tags/crateapp/?hl=es-la\" hreflang=\"es-cl\" />\n",
      "<link rel=\"alternate\" href=\"https://www.instagram.com/explore/tags/crateapp/?hl=es-la\" hreflang=\"es-mx\" />\n",
      "<link rel=\"alternate\" href=\"https://www.instagram.com/explore/tags/crateapp/?hl=es-la\" hreflang=\"es-pa\" />\n",
      "<link rel=\"alternate\" href=\"https://www.instagram.com/explore/tags/crateapp/?hl=es-la\" hreflang=\"es-ec\" />\n",
      "<link rel=\"alternate\" href=\"https://www.instagram.com/explore/tags/crateapp/?hl=es-la\" hreflang=\"es-pe\" />\n",
      "<link rel=\"alternate\" href=\"https://www.instagram.com/explore/tags/crateapp/?hl=es-la\" hreflang=\"es-ve\" />\n",
      "<link rel=\"alternate\" href=\"https://www.instagram.com/explore/tags/crateapp/?hl=es-la\" hreflang=\"es-gt\" />\n",
      "<link rel=\"alternate\" href=\"https://www.instagram.com/explore/tags/crateapp/?hl=es-la\" hreflang=\"es-py\" />\n",
      "<link rel=\"alternate\" href=\"https://www.instagram.com/explore/tags/crateapp/?hl=es-la\" hreflang=\"es-sv\" />\n",
      "<link rel=\"alternate\" href=\"https://www.instagram.com/explore/tags/crateapp/?hl=es-la\" hreflang=\"es-ar\" />\n",
      "<link rel=\"alternate\" href=\"https://www.instagram.com/explore/tags/crateapp/?hl=es-la\" hreflang=\"es-co\" />\n",
      "<link rel=\"alternate\" href=\"https://www.instagram.com/explore/tags/crateapp/?hl=es-la\" hreflang=\"es-cr\" />\n",
      "    \n",
      "</head>\n",
      "    <body class=\"\">\n",
      "        \n",
      "    <span id=\"react-root\"></span>\n",
      "\n",
      "        \n",
      "\n",
      "        \n",
      "            <script type=\"text/javascript\">window._sharedData = {\"activity_counts\":null,\"config\":{\"csrf_token\":\"lksQ61UVTv2Binmq0vYgyUSlZiUiahR6\",\"viewer\":null},\"supports_es6\":false,\"country_code\":\"US\",\"language_code\":\"en\",\"locale\":\"en_US\",\"entry_data\":{\"TagPage\":[{\"graphql\":{\"hashtag\":{\"name\":\"crateapp\",\"is_top_media_only\":false,\"profile_pic_url\":\"https://www.instagram.com/static/images/hashtag/Hashtag_Badge_2x.png/19db7afd7246.png\",\"edge_hashtag_to_media\":{\"count\":3,\"page_info\":{\"has_next_page\":false,\"end_cursor\":null},\"edges\":[{\"node\":{\"comments_disabled\":false,\"id\":\"1774063375691318557\",\"edge_media_to_caption\":{\"edges\":[{\"node\":{\"text\":\"#CrateApp #Demonstration\"}}]},\"shortcode\":\"BievT2lHIUd\",\"edge_media_to_comment\":{\"count\":0},\"taken_at_timestamp\":1525704856,\"dimensions\":{\"height\":320,\"width\":320},\"display_url\":\"https://instagram.fagc1-1.fna.fbcdn.net/vp/66031176bd97931654584eb003d65e38/5B9B0FD0/t51.2885-15/e35/31463523_1934910879874398_9117648204228198400_n.jpg\",\"edge_liked_by\":{\"count\":1},\"edge_media_preview_like\":{\"count\":1},\"owner\":{\"id\":\"7585457615\"},\"thumbnail_src\":\"https://instagram.fagc1-1.fna.fbcdn.net/vp/66031176bd97931654584eb003d65e38/5B9B0FD0/t51.2885-15/e35/31463523_1934910879874398_9117648204228198400_n.jpg\",\"thumbnail_resources\":[{\"src\":\"https://instagram.fagc1-1.fna.fbcdn.net/vp/28cdfd6cdc6ee6c7b23f4a1ae752e6af/5B9BA787/t51.2885-15/s150x150/e35/31463523_1934910879874398_9117648204228198400_n.jpg\",\"config_width\":150,\"config_height\":150},{\"src\":\"https://instagram.fagc1-1.fna.fbcdn.net/vp/a3c1e6ab8bc93a239a3cbfd961b518b7/5B98FE13/t51.2885-15/s240x240/e35/31463523_1934910879874398_9117648204228198400_n.jpg\",\"config_width\":240,\"config_height\":240},{\"src\":\"https://instagram.fagc1-1.fna.fbcdn.net/vp/66031176bd97931654584eb003d65e38/5B9B0FD0/t51.2885-15/e35/31463523_1934910879874398_9117648204228198400_n.jpg\",\"config_width\":320,\"config_height\":320},{\"src\":\"https://instagram.fagc1-1.fna.fbcdn.net/vp/66031176bd97931654584eb003d65e38/5B9B0FD0/t51.2885-15/e35/31463523_1934910879874398_9117648204228198400_n.jpg\",\"config_width\":480,\"config_height\":480},{\"src\":\"https://instagram.fagc1-1.fna.fbcdn.net/vp/66031176bd97931654584eb003d65e38/5B9B0FD0/t51.2885-15/e35/31463523_1934910879874398_9117648204228198400_n.jpg\",\"config_width\":640,\"config_height\":640}],\"is_video\":false}},{\"node\":{\"comments_disabled\":false,\"id\":\"1224055734029224022\",\"edge_media_to_caption\":{\"edges\":[{\"node\":{\"text\":\"\\u0646\\u0645\\u0648\\u0646\\u0647 \\u06a9\\u0627\\u0631 (\\u0627\\u0646\\u0644\\u0627\\u06cc\\u0646)\\n#crateapp  #crateapplication #credit\"}}]},\"shortcode\":\"BD8uDRsF4hW\",\"edge_media_to_comment\":{\"count\":0},\"taken_at_timestamp\":1460138836,\"dimensions\":{\"height\":640,\"width\":640},\"display_url\":\"https://instagram.fagc1-1.fna.fbcdn.net/vp/5bd9995c29ecf1bde799d6cf55cff7d2/5B8FB290/t51.2885-15/e35/12905271_1033027533436276_2008189723_n.jpg\",\"edge_liked_by\":{\"count\":1},\"edge_media_preview_like\":{\"count\":1},\"owner\":{\"id\":\"3079156505\"},\"thumbnail_src\":\"https://instagram.fagc1-1.fna.fbcdn.net/vp/5bd9995c29ecf1bde799d6cf55cff7d2/5B8FB290/t51.2885-15/e35/12905271_1033027533436276_2008189723_n.jpg\",\"thumbnail_resources\":[{\"src\":\"https://instagram.fagc1-1.fna.fbcdn.net/vp/9ae7f0bce9523a865f65fa0e0d16a894/5B76AF70/t51.2885-15/s150x150/e35/12905271_1033027533436276_2008189723_n.jpg\",\"config_width\":150,\"config_height\":150},{\"src\":\"https://instagram.fagc1-1.fna.fbcdn.net/vp/3a804803544ffeb79c4997e036791189/5B95C7AA/t51.2885-15/s240x240/e35/12905271_1033027533436276_2008189723_n.jpg\",\"config_width\":240,\"config_height\":240},{\"src\":\"https://instagram.fagc1-1.fna.fbcdn.net/vp/baf9af2248b4f4b929d89bdf7e26137f/5B8038C2/t51.2885-15/s320x320/e35/12905271_1033027533436276_2008189723_n.jpg\",\"config_width\":320,\"config_height\":320},{\"src\":\"https://instagram.fagc1-1.fna.fbcdn.net/vp/21074705fca834f2ec19444fccfd6298/5B8B32E4/t51.2885-15/s480x480/e35/12905271_1033027533436276_2008189723_n.jpg\",\"config_width\":480,\"config_height\":480},{\"src\":\"https://instagram.fagc1-1.fna.fbcdn.net/vp/5bd9995c29ecf1bde799d6cf55cff7d2/5B8FB290/t51.2885-15/e35/12905271_1033027533436276_2008189723_n.jpg\",\"config_width\":640,\"config_height\":640}],\"is_video\":false}},{\"node\":{\"comments_disabled\":false,\"id\":\"1223432060083342186\",\"edge_media_to_caption\":{\"edges\":[{\"node\":{\"text\":\"#App #crateapp #crateapplication #crate\\n\\u0628\\u0631\\u0627\\u06cc \\u0633\\u0641\\u0627\\u0631\\u0634 \\u0628\\u0647 \\u062f\\u0627\\u06cc\\u0631\\u06a9\\u062a \\u0628\\u06cc\\u0627\\u06cc\\u06cc\\u062f.\"}}]},\"shortcode\":\"BD6gPoEF4tq\",\"edge_media_to_comment\":{\"count\":0},\"taken_at_timestamp\":1460064488,\"dimensions\":{\"height\":1080,\"width\":1080},\"display_url\":\"https://instagram.fagc1-1.fna.fbcdn.net/vp/1c56d856899b9f37b3377dc94636f2af/5B8C0578/t51.2885-15/e35/12445904_1532686287036998_249720710_n.jpg\",\"edge_liked_by\":{\"count\":0},\"edge_media_preview_like\":{\"count\":0},\"owner\":{\"id\":\"3079156505\"},\"thumbnail_src\":\"https://instagram.fagc1-1.fna.fbcdn.net/vp/1161baa3fb598764ce60531879f9b27e/5B80EEC2/t51.2885-15/s640x640/sh0.08/e35/12445904_1532686287036998_249720710_n.jpg\",\"thumbnail_resources\":[{\"src\":\"https://instagram.fagc1-1.fna.fbcdn.net/vp/b1ec56c6c15aad94fa0433f424374980/5B84A966/t51.2885-15/s150x150/e35/12445904_1532686287036998_249720710_n.jpg\",\"config_width\":150,\"config_height\":150},{\"src\":\"https://instagram.fagc1-1.fna.fbcdn.net/vp/88ecb31f48469a5b90008ece325ec30a/5B831D00/t51.2885-15/s240x240/e35/12445904_1532686287036998_249720710_n.jpg\",\"config_width\":240,\"config_height\":240},{\"src\":\"https://instagram.fagc1-1.fna.fbcdn.net/vp/0a5f4f4c6add483e6b41a3b10d012d15/5B9043F5/t51.2885-15/s320x320/e35/12445904_1532686287036998_249720710_n.jpg\",\"config_width\":320,\"config_height\":320},{\"src\":\"https://instagram.fagc1-1.fna.fbcdn.net/vp/7e57cdecdb0f5cbb814f726302a2ffc2/5B8D3161/t51.2885-15/s480x480/e35/12445904_1532686287036998_249720710_n.jpg\",\"config_width\":480,\"config_height\":480},{\"src\":\"https://instagram.fagc1-1.fna.fbcdn.net/vp/1161baa3fb598764ce60531879f9b27e/5B80EEC2/t51.2885-15/s640x640/sh0.08/e35/12445904_1532686287036998_249720710_n.jpg\",\"config_width\":640,\"config_height\":640}],\"is_video\":false}}]},\"edge_hashtag_to_top_posts\":{\"edges\":[{\"node\":{\"id\":\"1774063375691318557\",\"edge_media_to_caption\":{\"edges\":[{\"node\":{\"text\":\"#CrateApp #Demonstration\"}}]},\"shortcode\":\"BievT2lHIUd\",\"edge_media_to_comment\":{\"count\":0},\"taken_at_timestamp\":1525704856,\"dimensions\":{\"height\":320,\"width\":320},\"display_url\":\"https://instagram.fagc1-1.fna.fbcdn.net/vp/66031176bd97931654584eb003d65e38/5B9B0FD0/t51.2885-15/e35/31463523_1934910879874398_9117648204228198400_n.jpg\",\"edge_liked_by\":{\"count\":1},\"edge_media_preview_like\":{\"count\":1},\"owner\":{\"id\":\"7585457615\"},\"thumbnail_src\":\"https://instagram.fagc1-1.fna.fbcdn.net/vp/66031176bd97931654584eb003d65e38/5B9B0FD0/t51.2885-15/e35/31463523_1934910879874398_9117648204228198400_n.jpg\",\"thumbnail_resources\":[{\"src\":\"https://instagram.fagc1-1.fna.fbcdn.net/vp/28cdfd6cdc6ee6c7b23f4a1ae752e6af/5B9BA787/t51.2885-15/s150x150/e35/31463523_1934910879874398_9117648204228198400_n.jpg\",\"config_width\":150,\"config_height\":150},{\"src\":\"https://instagram.fagc1-1.fna.fbcdn.net/vp/a3c1e6ab8bc93a239a3cbfd961b518b7/5B98FE13/t51.2885-15/s240x240/e35/31463523_1934910879874398_9117648204228198400_n.jpg\",\"config_width\":240,\"config_height\":240},{\"src\":\"https://instagram.fagc1-1.fna.fbcdn.net/vp/66031176bd97931654584eb003d65e38/5B9B0FD0/t51.2885-15/e35/31463523_1934910879874398_9117648204228198400_n.jpg\",\"config_width\":320,\"config_height\":320},{\"src\":\"https://instagram.fagc1-1.fna.fbcdn.net/vp/66031176bd97931654584eb003d65e38/5B9B0FD0/t51.2885-15/e35/31463523_1934910879874398_9117648204228198400_n.jpg\",\"config_width\":480,\"config_height\":480},{\"src\":\"https://instagram.fagc1-1.fna.fbcdn.net/vp/66031176bd97931654584eb003d65e38/5B9B0FD0/t51.2885-15/e35/31463523_1934910879874398_9117648204228198400_n.jpg\",\"config_width\":640,\"config_height\":640}],\"is_video\":false}},{\"node\":{\"id\":\"1223432060083342186\",\"edge_media_to_caption\":{\"edges\":[{\"node\":{\"text\":\"#App #crateapp #crateapplication #crate\\n\\u0628\\u0631\\u0627\\u06cc \\u0633\\u0641\\u0627\\u0631\\u0634 \\u0628\\u0647 \\u062f\\u0627\\u06cc\\u0631\\u06a9\\u062a \\u0628\\u06cc\\u0627\\u06cc\\u06cc\\u062f.\"}}]},\"shortcode\":\"BD6gPoEF4tq\",\"edge_media_to_comment\":{\"count\":0},\"taken_at_timestamp\":1460064488,\"dimensions\":{\"height\":1080,\"width\":1080},\"display_url\":\"https://instagram.fagc1-1.fna.fbcdn.net/vp/1c56d856899b9f37b3377dc94636f2af/5B8C0578/t51.2885-15/e35/12445904_1532686287036998_249720710_n.jpg\",\"edge_liked_by\":{\"count\":0},\"edge_media_preview_like\":{\"count\":0},\"owner\":{\"id\":\"3079156505\"},\"thumbnail_src\":\"https://instagram.fagc1-1.fna.fbcdn.net/vp/1161baa3fb598764ce60531879f9b27e/5B80EEC2/t51.2885-15/s640x640/sh0.08/e35/12445904_1532686287036998_249720710_n.jpg\",\"thumbnail_resources\":[{\"src\":\"https://instagram.fagc1-1.fna.fbcdn.net/vp/b1ec56c6c15aad94fa0433f424374980/5B84A966/t51.2885-15/s150x150/e35/12445904_1532686287036998_249720710_n.jpg\",\"config_width\":150,\"config_height\":150},{\"src\":\"https://instagram.fagc1-1.fna.fbcdn.net/vp/88ecb31f48469a5b90008ece325ec30a/5B831D00/t51.2885-15/s240x240/e35/12445904_1532686287036998_249720710_n.jpg\",\"config_width\":240,\"config_height\":240},{\"src\":\"https://instagram.fagc1-1.fna.fbcdn.net/vp/0a5f4f4c6add483e6b41a3b10d012d15/5B9043F5/t51.2885-15/s320x320/e35/12445904_1532686287036998_249720710_n.jpg\",\"config_width\":320,\"config_height\":320},{\"src\":\"https://instagram.fagc1-1.fna.fbcdn.net/vp/7e57cdecdb0f5cbb814f726302a2ffc2/5B8D3161/t51.2885-15/s480x480/e35/12445904_1532686287036998_249720710_n.jpg\",\"config_width\":480,\"config_height\":480},{\"src\":\"https://instagram.fagc1-1.fna.fbcdn.net/vp/1161baa3fb598764ce60531879f9b27e/5B80EEC2/t51.2885-15/s640x640/sh0.08/e35/12445904_1532686287036998_249720710_n.jpg\",\"config_width\":640,\"config_height\":640}],\"is_video\":false}},{\"node\":{\"id\":\"1224055734029224022\",\"edge_media_to_caption\":{\"edges\":[{\"node\":{\"text\":\"\\u0646\\u0645\\u0648\\u0646\\u0647 \\u06a9\\u0627\\u0631 (\\u0627\\u0646\\u0644\\u0627\\u06cc\\u0646)\\n#crateapp  #crateapplication #credit\"}}]},\"shortcode\":\"BD8uDRsF4hW\",\"edge_media_to_comment\":{\"count\":0},\"taken_at_timestamp\":1460138836,\"dimensions\":{\"height\":640,\"width\":640},\"display_url\":\"https://instagram.fagc1-1.fna.fbcdn.net/vp/5bd9995c29ecf1bde799d6cf55cff7d2/5B8FB290/t51.2885-15/e35/12905271_1033027533436276_2008189723_n.jpg\",\"edge_liked_by\":{\"count\":1},\"edge_media_preview_like\":{\"count\":1},\"owner\":{\"id\":\"3079156505\"},\"thumbnail_src\":\"https://instagram.fagc1-1.fna.fbcdn.net/vp/5bd9995c29ecf1bde799d6cf55cff7d2/5B8FB290/t51.2885-15/e35/12905271_1033027533436276_2008189723_n.jpg\",\"thumbnail_resources\":[{\"src\":\"https://instagram.fagc1-1.fna.fbcdn.net/vp/9ae7f0bce9523a865f65fa0e0d16a894/5B76AF70/t51.2885-15/s150x150/e35/12905271_1033027533436276_2008189723_n.jpg\",\"config_width\":150,\"config_height\":150},{\"src\":\"https://instagram.fagc1-1.fna.fbcdn.net/vp/3a804803544ffeb79c4997e036791189/5B95C7AA/t51.2885-15/s240x240/e35/12905271_1033027533436276_2008189723_n.jpg\",\"config_width\":240,\"config_height\":240},{\"src\":\"https://instagram.fagc1-1.fna.fbcdn.net/vp/baf9af2248b4f4b929d89bdf7e26137f/5B8038C2/t51.2885-15/s320x320/e35/12905271_1033027533436276_2008189723_n.jpg\",\"config_width\":320,\"config_height\":320},{\"src\":\"https://instagram.fagc1-1.fna.fbcdn.net/vp/21074705fca834f2ec19444fccfd6298/5B8B32E4/t51.2885-15/s480x480/e35/12905271_1033027533436276_2008189723_n.jpg\",\"config_width\":480,\"config_height\":480},{\"src\":\"https://instagram.fagc1-1.fna.fbcdn.net/vp/5bd9995c29ecf1bde799d6cf55cff7d2/5B8FB290/t51.2885-15/e35/12905271_1033027533436276_2008189723_n.jpg\",\"config_width\":640,\"config_height\":640}],\"is_video\":false}}]},\"edge_hashtag_to_content_advisory\":{\"count\":0,\"edges\":[]}}}}]},\"gatekeepers\":{\"ld\":true,\"seo\":true,\"seoht\":true,\"lh\":true,\"saa\":true},\"knobs\":{\"acct:ntb\":0,\"cb\":1},\"qe\":{\"dash_for_vod\":{\"g\":\"\",\"p\":{}},\"aysf\":{\"g\":\"\",\"p\":{}},\"bc3l\":{\"g\":\"\",\"p\":{}},\"comment_reporting\":{\"g\":\"\",\"p\":{}},\"direct_conversation_reporting\":{\"g\":\"\",\"p\":{}},\"direct_reporting\":{\"g\":\"\",\"p\":{}},\"reporting\":{\"g\":\"\",\"p\":{}},\"media_reporting\":{\"g\":\"\",\"p\":{}},\"acc_recovery_link\":{\"g\":\"\",\"p\":{}},\"notif\":{\"g\":\"\",\"p\":{}},\"drct_nav\":{\"g\":\"\",\"p\":{}},\"pl_pivot_li\":{\"g\":\"\",\"p\":{}},\"pl_pivot_lo\":{\"g\":\"\",\"p\":{}},\"404_as_react\":{\"g\":\"\",\"p\":{}},\"acc_recovery\":{\"g\":\"test_with_fb_login_02_09_18\",\"p\":{\"has_fb_login_button\":\"true\"}},\"client_gql\":{\"g\":\"\",\"p\":{}},\"collections\":{\"g\":\"\",\"p\":{}},\"comment_ta\":{\"g\":\"\",\"p\":{}},\"connections\":{\"g\":\"\",\"p\":{}},\"disc_ppl\":{\"g\":\"\",\"p\":{}},\"embeds\":{\"g\":\"\",\"p\":{}},\"ebdsim_li\":{\"g\":\"\",\"p\":{}},\"ebdsim_lo\":{\"g\":\"\",\"p\":{}},\"es6\":{\"g\":\"\",\"p\":{}},\"exit_story_creation\":{\"g\":\"\",\"p\":{}},\"gdpr_logged_out\":{\"g\":\"\",\"p\":{}},\"appsell\":{\"g\":\"\",\"p\":{}},\"imgopt\":{\"g\":\"\",\"p\":{}},\"follow_button\":{\"g\":\"\",\"p\":{}},\"loggedout\":{\"g\":\"launch\",\"p\":{\"new_cta\":\"true\",\"remove_upsell_banner\":\"true\",\"update_nav\":\"true\"}},\"loggedout_upsell\":{\"g\":\"control_without_new_loggedout_upsell_content_03_15_18\",\"p\":{\"has_new_loggedout_upsell_content\":\"false\"}},\"us_li\":{\"g\":\"\",\"p\":{}},\"msisdn\":{\"g\":\"\",\"p\":{}},\"bg_sync\":{\"g\":\"\",\"p\":{}},\"onetaplogin\":{\"g\":\"control\",\"p\":{\"enabled\":\"false\",\"storage_version\":\"one_tap_on_logout_v1\"}},\"onetaplogin_userbased\":{\"g\":\"\",\"p\":{}},\"login_poe\":{\"g\":\"\",\"p\":{}},\"prvcy_tggl\":{\"g\":\"\",\"p\":{}},\"private_lo\":{\"g\":\"\",\"p\":{}},\"profile_photo_nux_fbc_v2\":{\"g\":\"\",\"p\":{}},\"push_notifications\":{\"g\":\"\",\"p\":{}},\"reg\":{\"g\":\"control_01_10\",\"p\":{\"has_new_landing_appsells\":\"false\",\"has_new_landing_page\":\"false\"}},\"reg_vp\":{\"g\":\"test_group_2\",\"p\":{\"hide_value_prop\":\"true\"}},\"feed_vp\":{\"g\":\"\",\"p\":{}},\"report_haf\":{\"g\":\"\",\"p\":{}},\"report_media\":{\"g\":\"\",\"p\":{}},\"report_profile\":{\"g\":\"\",\"p\":{}},\"save\":{\"g\":\"\",\"p\":{}},\"sidecar\":{\"g\":\"\",\"p\":{}},\"su_universe\":{\"g\":\"\",\"p\":{}},\"stale\":{\"g\":\"\",\"p\":{}},\"stories_lo\":{\"g\":\"test_04_16\",\"p\":{\"stories_permalink\":\"true\"}},\"stories\":{\"g\":\"\",\"p\":{}},\"tp_pblshr\":{\"g\":\"\",\"p\":{}},\"video\":{\"g\":\"\",\"p\":{}},\"gdpr_settings\":{\"g\":\"\",\"p\":{}},\"gdpr_eu_tos\":{\"g\":\"\",\"p\":{}},\"gdpr_row_tos\":{\"g\":\"\",\"p\":{}},\"fd_gr\":{\"g\":\"\",\"p\":{}}},\"hostname\":\"www.instagram.com\",\"platform\":\"web\",\"rhx_gis\":\"fc2e73d4fd7dddcd31d28bea5cb2df59\",\"nonce\":\"TN606YpPeMi7aDQDu+qHNA==\",\"is_bot\":false,\"zero_data\":{},\"rollout_hash\":\"4001223731fc\",\"bundle_variant\":\"base\",\"probably_has_app\":false,\"show_app_install\":true};</script><script type=\"text/javascript\">\n",
      "        window.__useAsyncEntrypoints = true;\n",
      "        window.__initialDataLoaded(window._sharedData);\n",
      "        </script>\n",
      "            <script type=\"text/javascript\" src=\"/static/bundles/base/Polyfills.js/d5d44088527a.js\" crossorigin=\"anonymous\"></script>\n",
      "            <script type=\"text/javascript\" src=\"/static/bundles/base/Vendor.js/0b34a2e2f7c2.js\" crossorigin=\"anonymous\"></script>\n",
      "<script type=\"text/javascript\">!function(e){var a=window.webpackJsonp;window.webpackJsonp=function(n,r,i){for(var c,f,d,s=0,g=[];s<n.length;s++)f=n[s],o[f]&&g.push(o[f][0]),o[f]=0;for(c in r)Object.prototype.hasOwnProperty.call(r,c)&&(e[c]=r[c]);for(a&&a(n,r,i);g.length;)g.shift()();if(i)for(s=0;s<i.length;s++)d=t(t.s=i[s]);return d};var n={},o={66:0};function t(a){if(n[a])return n[a].exports;var o=n[a]={i:a,l:!1,exports:{}};return e[a].call(o.exports,o,o.exports,t),o.l=!0,o.exports}t.e=function(e){var a=o[e];if(0===a)return new Promise(function(e){e()});if(a)return a[2];var n=new Promise(function(n,t){a=o[e]=[n,t]});a[2]=n;var r=document.getElementsByTagName(\"head\")[0],i=document.createElement(\"script\");i.type=\"text/javascript\",i.charset=\"utf-8\",i.async=!0,i.timeout=12e4,i.crossOrigin=\"anonymous\",t.nc&&i.setAttribute(\"nonce\",t.nc),i.src=t.p+\"\"+({0:\"SettingsModules\",1:\"MobileStoriesPage\",2:\"DesktopStoriesPage\",3:\"ProfilePageContainer\",4:\"LikedByListContainer\",5:\"FollowListContainer\",6:\"CreationModules\",7:\"LocationPageContainer\",8:\"DiscoverMediaPageContainer\",9:\"DiscoverEmbedsPageContainer\",10:\"TagPageContainer\",11:\"UserCollectionMediaPageContainer\",12:\"DebugInfoNub\",13:\"FeedPageContainer\",14:\"PostPageContainer\",15:\"LandingPage\",16:\"LoginAndSignupPage\",17:\"ResetPasswordPageContainer\",18:\"MobileStoriesLoginPage\",19:\"DesktopStoriesLoginPage\",20:\"FBSignupPage\",21:\"TermsUnblockPage\",22:\"DirectInboxPageContainer\",23:\"NewUserInterstitial\",24:\"DiscoverPeoplePageContainer\",25:\"IGTVVideoUploadPageContainer\",26:\"UserCollectionsPageContainer\",27:\"DataDownloadRequestPage\",28:\"MultiStepSignupPage\",29:\"ContactHistoryPage\",30:\"AccessToolViewAllPage\",31:\"AccessToolPage\",32:\"DataDownloadRequestConfirmPage\",33:\"DataControlsSupportPage\",34:\"EmailConfirmationPage\",35:\"LocationsDirectoryLandingPage\",36:\"LocationsDirectoryCountryPage\",37:\"LocationsDirectoryCityPage\",38:\"OneTapUpsell\",39:\"NewTermsConfirmPage\",40:\"SuggestedDirectoryLandingPage\",41:\"ProfilesDirectoryLandingPage\",42:\"HashtagsDirectoryLandingPage\",43:\"OAuthPermissionsPage\",44:\"DirectoryPage\",45:\"HttpErrorPage\",46:\"ActivityFeedPage\",47:\"StoryCreationPage\",48:\"ParentalConsentPage\",49:\"ParentalConsentNotParentPage\",50:\"CheckpointUnderageAppealPage\",51:\"AccountPrivacyBugPage\",52:\"ContactInvitesOptOutPage\",53:\"ContactInvitesOptOutStatusPage\",54:\"Report\",55:\"Copyright\",56:\"SupportInfo\",57:\"Community\",58:\"Verification\",59:\"Challenge\",60:\"Consumer\",61:\"EmailSnoozePage\",62:\"EmailUnsubscribePage\",63:\"NotificationLandingPage\"}[e]||e)+\".js/\"+{0:\"32f30663a7bc\",1:\"2c71bd1486a7\",2:\"c4f463f0b041\",3:\"451ff73e3d61\",4:\"7d6f1775ef5e\",5:\"a43a34427123\",6:\"d85ceef86e96\",7:\"b06f55b231d3\",8:\"730628c7be47\",9:\"d428d11297c9\",10:\"ea0c954b4ec9\",11:\"dbfc6d656815\",12:\"f63d7c5e7177\",13:\"561b54aac3ea\",14:\"8cf5a4b9fa66\",15:\"8f79357d3cf7\",16:\"79913f1ef7c0\",17:\"209e0a2c77f4\",18:\"37a4c83d87cb\",19:\"4e75b4d294e7\",20:\"f74738fa38bb\",21:\"c3865ba3856f\",22:\"e97468b99fcd\",23:\"bddbef80ffac\",24:\"ddf5fd37fe54\",25:\"5ae79baad627\",26:\"da7d3eace95c\",27:\"648d629abd4c\",28:\"da7972f5e1f6\",29:\"b2a51a36fb74\",30:\"8f3995b5fc38\",31:\"f1d9ebfba46d\",32:\"07e7db2695bf\",33:\"f8abe8c4fe90\",34:\"3c1aced60712\",35:\"14428b4fd71a\",36:\"705c896eaedb\",37:\"b721d3980363\",38:\"a634834b4349\",39:\"8d667a4f9e94\",40:\"8cfd10cc8d78\",41:\"c0a36a3d6f7e\",42:\"91867665c294\",43:\"f60da1c59a25\",44:\"e5ab5fa906cf\",45:\"a9ee405d2f3b\",46:\"2d73ecb91ccd\",47:\"d545c703f340\",48:\"a0f2782189c3\",49:\"df48ffc9a3a2\",50:\"651024f2cb39\",51:\"edb100d67ae4\",52:\"044dd7843057\",53:\"59faa072e297\",54:\"e1c650f06287\",55:\"d06feddc2f03\",56:\"dffe74c3abe9\",57:\"2cfe3b5ad29c\",58:\"7a7cd1a5ed86\",59:\"8595c48d68e9\",60:\"8a9e981e8cf5\",61:\"d8844f6b6f51\",62:\"3ed30d7f57e0\",63:\"36801b9a89a7\"}[e]+\".js\";var c=setTimeout(f,12e4);function f(){i.onerror=i.onload=null,clearTimeout(c);var a=o[e];0!==a&&(a&&a[1](new Error(\"Loading chunk \"+e+\" failed.\")),o[e]=void 0)}return i.onerror=i.onload=f,r.appendChild(i),n},t.m=e,t.c=n,t.d=function(e,a,n){t.o(e,a)||Object.defineProperty(e,a,{configurable:!1,enumerable:!0,get:n})},t.n=function(e){var a=e&&e.__esModule?function(){return e.default}:function(){return e};return t.d(a,\"a\",a),a},t.o=function(e,a){return Object.prototype.hasOwnProperty.call(e,a)},t.p=\"/static/bundles/base/\",t.oe=function(e){throw console.error(e),e}}([]);</script>\n",
      "            <script type=\"text/javascript\" src=\"/static/bundles/base/TagPageContainer.js/ea0c954b4ec9.js\" crossorigin=\"anonymous\" charset=\"utf-8\" async=\"\"></script>\n",
      "<script type=\"text/javascript\" src=\"/static/bundles/base/en_US.js/ed2abd44af91.js\" crossorigin=\"anonymous\"></script>\n",
      "<script type=\"text/javascript\" src=\"/static/bundles/base/ConsumerCommons.js/aae953d1b0b9.js\" crossorigin=\"anonymous\"></script>\n",
      "<script type=\"text/javascript\" src=\"/static/bundles/base/Consumer.js/8a9e981e8cf5.js\" crossorigin=\"anonymous\"></script>\n",
      "        \n",
      "    </body>\n",
      "</html>\n"
     ]
    }
   ],
   "source": [
    "driver = requests.get(url)\n",
    "print(driver.text)"
   ]
  },
  {
   "cell_type": "markdown",
   "metadata": {},
   "source": [
    "### Using beautiful soup to manipulate the data"
   ]
  },
  {
   "cell_type": "code",
   "execution_count": 298,
   "metadata": {},
   "outputs": [
    {
     "data": {
      "text/plain": [
       "bs4.BeautifulSoup"
      ]
     },
     "execution_count": 298,
     "metadata": {},
     "output_type": "execute_result"
    }
   ],
   "source": [
    "soup = bs4.BeautifulSoup(driver.text, 'lxml')\n",
    "description = soup.select('title')\n",
    "type(soup)"
   ]
  },
  {
   "cell_type": "markdown",
   "metadata": {},
   "source": [
    "### Extract data based on JavaScript \"script\" items."
   ]
  },
  {
   "cell_type": "code",
   "execution_count": 299,
   "metadata": {},
   "outputs": [],
   "source": [
    "script = soup.find_all(\"script\")"
   ]
  },
  {
   "cell_type": "markdown",
   "metadata": {},
   "source": [
    "### Use selenium to navigate to the first post"
   ]
  },
  {
   "cell_type": "code",
   "execution_count": 300,
   "metadata": {},
   "outputs": [
    {
     "name": "stdout",
     "output_type": "stream",
     "text": [
      "#crateapp • Instagram photos and videos\n"
     ]
    }
   ],
   "source": [
    "driver = webdriver.Firefox()\n",
    "driver.get(url)\n",
    "print(driver.title)"
   ]
  },
  {
   "cell_type": "code",
   "execution_count": 302,
   "metadata": {},
   "outputs": [],
   "source": [
    "element = driver.find_element_by_xpath(\"//div[@class='_e3il2']\")\n",
    "element.click()"
   ]
  },
  {
   "cell_type": "markdown",
   "metadata": {},
   "source": [
    "### Print out the description"
   ]
  },
  {
   "cell_type": "code",
   "execution_count": 303,
   "metadata": {},
   "outputs": [
    {
     "data": {
      "text/plain": [
       "'Crate on Instagram: “#CrateApp #Demonstration”'"
      ]
     },
     "execution_count": 303,
     "metadata": {},
     "output_type": "execute_result"
    }
   ],
   "source": [
    "driver.get(driver.current_url)\n",
    "driver.title"
   ]
  },
  {
   "cell_type": "code",
   "execution_count": 304,
   "metadata": {},
   "outputs": [],
   "source": [
    "driver.close()"
   ]
  },
  {
   "cell_type": "code",
   "execution_count": null,
   "metadata": {},
   "outputs": [],
   "source": []
  }
 ],
 "metadata": {
  "kernelspec": {
   "display_name": "Python 3",
   "language": "python",
   "name": "python3"
  },
  "language_info": {
   "codemirror_mode": {
    "name": "ipython",
    "version": 3
   },
   "file_extension": ".py",
   "mimetype": "text/x-python",
   "name": "python",
   "nbconvert_exporter": "python",
   "pygments_lexer": "ipython3",
   "version": "3.6.4"
  }
 },
 "nbformat": 4,
 "nbformat_minor": 2
}
